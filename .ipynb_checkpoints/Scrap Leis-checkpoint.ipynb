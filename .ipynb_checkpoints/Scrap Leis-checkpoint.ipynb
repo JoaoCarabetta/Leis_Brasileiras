{
 "cells": [
  {
   "cell_type": "code",
   "execution_count": 1,
   "metadata": {
    "collapsed": true
   },
   "outputs": [],
   "source": [
    "from pymongo import MongoClient\n",
    "client = MongoClient()\n",
    "client = MongoClient('localhost', 27017)\n",
    "db = client['leis']\n",
    "collection = db['federais']"
   ]
  },
  {
   "cell_type": "code",
   "execution_count": 22,
   "metadata": {
    "collapsed": true
   },
   "outputs": [],
   "source": [
    "import time\n",
    "import pandas as pd\n",
    "import urllib\n",
    "import xml.etree.ElementTree as ET\n",
    "from xmljson import parker as pk\n",
    "from xml.etree.ElementTree import fromstring\n",
    "from json import dumps, loads\n",
    "import pprint\n",
    "\n",
    "def get_content(url):\n",
    "\n",
    "    html = urllib.request.urlopen(url)\n",
    "    tree = ET.parse(html)\n",
    "    root = tree.getroot()\n",
    "\n",
    "    return root"
   ]
  },
  {
   "cell_type": "code",
   "execution_count": 34,
   "metadata": {
    "collapsed": false
   },
   "outputs": [],
   "source": [
    "def to_database(root):\n",
    "    try:\n",
    "        leis = loads(dumps(pk.data(root)))['Normas']['Norma']\n",
    "        result = collection.insert_many(leis)\n",
    "    except:\n",
    "        print('Vazio')"
   ]
  },
  {
   "cell_type": "code",
   "execution_count": 35,
   "metadata": {
    "collapsed": false
   },
   "outputs": [
    {
     "name": "stdout",
     "output_type": "stream",
     "text": [
      "1945\n",
      "1946\n",
      "1947\n",
      "1948\n",
      "1949\n",
      "1950\n",
      "1951\n",
      "1952\n",
      "1953\n",
      "1954\n",
      "1955\n",
      "1956\n",
      "1957\n",
      "1958\n",
      "1959\n",
      "1960\n",
      "1961\n",
      "1962\n",
      "1963\n",
      "1964\n",
      "1965\n",
      "1966\n",
      "1967\n",
      "1968\n",
      "1969\n",
      "1970\n",
      "1971\n",
      "1972\n",
      "1973\n",
      "1974\n",
      "1975\n",
      "1976\n",
      "1977\n",
      "1978\n",
      "1979\n",
      "1980\n",
      "1981\n",
      "1982\n",
      "1983\n",
      "1984\n",
      "1985\n",
      "1986\n",
      "1987\n",
      "1988\n",
      "1989\n",
      "1990\n",
      "1991\n",
      "1992\n",
      "1993\n",
      "1994\n",
      "1995\n",
      "1996\n",
      "1997\n",
      "1998\n",
      "1999\n",
      "2000\n",
      "2001\n",
      "2002\n",
      "2003\n",
      "2004\n",
      "2005\n",
      "2006\n",
      "2007\n",
      "2008\n",
      "2009\n",
      "2010\n",
      "2011\n",
      "2012\n",
      "2013\n",
      "2014\n",
      "2015\n"
     ]
    }
   ],
   "source": [
    "for ano in range(1945, 2016):\n",
    "    print(ano)\n",
    "    root = get_content('http://legis.senado.leg.br/dadosabertos/legislacao/lista?tipo=LEI&ano={}'.format(ano))\n",
    "    to_database(root)"
   ]
  },
  {
   "cell_type": "code",
   "execution_count": null,
   "metadata": {
    "collapsed": false
   },
   "outputs": [],
   "source": []
  },
  {
   "cell_type": "code",
   "execution_count": null,
   "metadata": {
    "collapsed": false
   },
   "outputs": [],
   "source": [
    "id_errors = []\n",
    "for ano in range(2004, 1945, -1):\n",
    "    print(ano)\n",
    "    for post in collection.find({'Ano': ano}):\n",
    "        id = post['Codigo']\n",
    "        root = get_content(\"http://legis.senado.leg.br/dadosabertos/legislacao/{}\".format(id))\n",
    "        try:\n",
    "            update_db(root, id) \n",
    "        except:\n",
    "            id_errors.append(id)\n",
    "            print(id)"
   ]
  },
  {
   "cell_type": "code",
   "execution_count": 89,
   "metadata": {
    "collapsed": false
   },
   "outputs": [],
   "source": [
    "import html2text\n",
    "def parse_html(url, id):\n",
    "\n",
    "    html = urllib.request.urlopen(url)\n",
    "    \n",
    "    html = str(html.read().decode('utf-8'))\n",
    "    \n",
    "    with open('htmls/{}.html'.format(id), 'w') as f:\n",
    "        f.write(html)\n",
    "\n",
    "    text = html2text.html2text(html)\n",
    "    \n",
    "    return text    "
   ]
  },
  {
   "cell_type": "code",
   "execution_count": 135,
   "metadata": {
    "collapsed": false
   },
   "outputs": [],
   "source": [
    "import copy\n",
    "def update_db(root, id):\n",
    "    # add to db with LinkTexto and processed html\n",
    "    link = loads(dumps(pk.data(root)))['Normas']['Norma']['Publicacoes']['Publicacao']['LinkTexto']\n",
    "    \n",
    "    # copy doc\n",
    "    old_doc = collection.find_one({'Codigo': id})\n",
    "    new_doc = copy.deepcopy(old_doc)\n",
    "    \n",
    "    # add Link Texto\n",
    "    new_doc['LinkTexto'] = link\n",
    "    \n",
    "    # add html as text\n",
    "    new_doc['TextContent'] = parse_html(link, id)\n",
    "    \n",
    "    # replace doc\n",
    "    collection.find_one_and_replace({'Codigo': id}, new_doc, upsert=False)"
   ]
  },
  {
   "cell_type": "code",
   "execution_count": null,
   "metadata": {
    "collapsed": false
   },
   "outputs": [],
   "source": [
    "\n"
   ]
  },
  {
   "cell_type": "code",
   "execution_count": null,
   "metadata": {
    "collapsed": false
   },
   "outputs": [],
   "source": []
  },
  {
   "cell_type": "code",
   "execution_count": 156,
   "metadata": {
    "collapsed": false
   },
   "outputs": [],
   "source": []
  },
  {
   "cell_type": "code",
   "execution_count": null,
   "metadata": {
    "collapsed": false
   },
   "outputs": [],
   "source": []
  },
  {
   "cell_type": "code",
   "execution_count": null,
   "metadata": {
    "collapsed": true
   },
   "outputs": [],
   "source": []
  }
 ],
 "metadata": {
  "anaconda-cloud": {},
  "kernelspec": {
   "display_name": "Python 3",
   "language": "python",
   "name": "python3"
  },
  "language_info": {
   "codemirror_mode": {
    "name": "ipython",
    "version": 3
   },
   "file_extension": ".py",
   "mimetype": "text/x-python",
   "name": "python",
   "nbconvert_exporter": "python",
   "pygments_lexer": "ipython3",
   "version": "3.5.2"
  }
 },
 "nbformat": 4,
 "nbformat_minor": 1
}
